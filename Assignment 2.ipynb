{
 "cells": [
  {
   "cell_type": "code",
   "execution_count": 2,
   "metadata": {},
   "outputs": [
    {
     "name": "stdout",
     "output_type": "stream",
     "text": [
      "OpenCV Version : 3.3.0 \n"
     ]
    }
   ],
   "source": [
    "%matplotlib inline\n",
    "import cv2\n",
    "import numpy as np\n",
    "import matplotlib.pyplot as plt\n",
    "print(\"OpenCV Version : {} \".format(cv2.__version__))"
   ]
  },
  {
   "cell_type": "markdown",
   "metadata": {},
   "source": [
    "# Problem 1 - Harris Corner Detection"
   ]
  },
  {
   "cell_type": "code",
   "execution_count": 4,
   "metadata": {},
   "outputs": [
    {
     "data": {
      "image/png": "[encoded data removed]",
      "text/plain": [
       "<matplotlib.figure.Figure at 0x1175c0160>"
      ]
     },
     "metadata": {},
     "output_type": "display_data"
    },
    {
     "data": {
      "text/plain": [
       "True"
      ]
     },
     "execution_count": 4,
     "metadata": {},
     "output_type": "execute_result"
    }
   ],
   "source": [
    "img1 = cv2.imread('chessboard.jpg')\n",
    "# create copy\n",
    "img_disp = img1.copy()\n",
    "\n",
    "# Grayscale\n",
    "img1_gray = cv2.cvtColor(img1, cv2.COLOR_BGR2GRAY)\n",
    "\n",
    "# Sobel x-axis kernel\n",
    "SOBEL_X = np.array((\n",
    "    [-1, 0, 1],\n",
    "    [-2, 0, 2],\n",
    "    [-1, 0, 1]), dtype=\"int32\")\n",
    "\n",
    "# Sobel y-axis kernel\n",
    "SOBEL_Y = np.array((\n",
    "    [-1, -2, -1],\n",
    "    [0, 0, 0],\n",
    "    [1, 2, 1]), dtype=\"int32\")\n",
    "\n",
    "# Gaussian kernel\n",
    "GAUSS = np.array((\n",
    "    [1/16, 2/16, 1/16],\n",
    "    [2/16, 4/16, 2/16],\n",
    "    [1/16, 2/16, 1/16]), dtype=\"float64\")\n",
    "\n",
    "\n",
    "def convolve(f, h):\n",
    "    if h.shape[0] % 2 != 1 or h.shape[1] % 2 != 1:\n",
    "        raise ValueError(\"Only odd dimensions on filter supported\")\n",
    "\n",
    "    img_height = f.shape[0]\n",
    "    img_width = f.shape[1]\n",
    "    pad_height = h.shape[0] // 2\n",
    "    pad_width = h.shape[1] // 2\n",
    "    # Allocate result image.\n",
    "    pad = ((pad_height, pad_height), (pad_height, pad_width))\n",
    "    g = np.empty(f.shape, dtype=np.float64)\n",
    "    f = np.pad(f, pad, mode='constant', constant_values=0)\n",
    "    # Do convolution\n",
    "    for i in np.arange(pad_height, img_height+pad_height):\n",
    "        for j in np.arange(pad_width, img_width+pad_width):\n",
    "            roi = f[i - pad_height:i + pad_height + 1, j - pad_width:j + pad_width + 1]\n",
    "            g[i - pad_height, j - pad_width] = (roi*h).sum()\n",
    "            \n",
    "    if (g.dtype == np.float64):\n",
    "        h = h / 255.0 \n",
    "        h = (h*255).astype(np.uint8)\n",
    "    else:\n",
    "        g = g + abs(np.amin(g))\n",
    "        g = g / np.amax(g)\n",
    "        g = (g*255.0)\n",
    "\n",
    "    return g\n",
    "\n",
    "\n",
    "dx = convolve(img1_gray, SOBEL_X)\n",
    "\n",
    "dy = convolve(img1_gray, SOBEL_Y)\n",
    "\n",
    "\n",
    "\n",
    "dx2 = np.square(dx)\n",
    "dy2 = np.square(dy)\n",
    "dxdy = dx*dy\n",
    "\n",
    "g_dx2 = convolve(dx2, GAUSS)\n",
    "g_dy2 = convolve(dy2, GAUSS)\n",
    "g_dxdy = convolve(dxdy, GAUSS)\n",
    "                      \n",
    "alpha = 0.12\n",
    "\n",
    "harris = g_dx2*g_dy2 - np.square(g_dxdy) - alpha*np.square(g_dx2 + g_dy2)\n",
    "\n",
    "cv2.normalize(harris, harris, 0, 1, cv2.NORM_MINMAX)\n",
    "\n",
    "\n",
    "# set a threshold\n",
    "thres = 0.6\n",
    "# find all points above threshold\n",
    "loc = np.where(harris >= thres)\n",
    "# loop though the points\n",
    "for pt in zip(*loc[::-1]):\n",
    "    # draw filled circle on each point\n",
    "    cv2.circle(img_disp, pt, 3, (255, 0, 0), -1)\n",
    "\n",
    "\n",
    "\n",
    "\n",
    "\n",
    "\n",
    "\n",
    "\n",
    "\n",
    "\n",
    "\n",
    "# display images\n",
    "plt.figure(figsize=(10,10))\n",
    "plt.subplot(121), plt.imshow(img1_gray, cmap='gray')\n",
    "plt.title(\"Input Image\"), plt.xticks([]), plt.yticks([])\n",
    "plt.subplot(122), plt.imshow(img_disp)\n",
    "plt.title(\"Harris Corners\"), plt.xticks([]), plt.yticks([])\n",
    "plt.show()\n",
    "\n",
    "cv2.imwrite(\"output/q1.png\", cv2.cvtColor(img_disp, cv2.COLOR_BGR2RGB))\n",
    "\n"
   ]
  },
  {
   "cell_type": "markdown",
   "metadata": {},
   "source": [
    "# Problem 2 - Panoramic Images"
   ]
  },
  {
   "cell_type": "code",
   "execution_count": null,
   "metadata": {},
   "outputs": [],
   "source": []
  }
 ],
 "metadata": {
  "kernelspec": {
   "display_name": "Python 3",
   "language": "python",
   "name": "python3"
  },
  "language_info": {
   "codemirror_mode": {
    "name": "ipython",
    "version": 3
   },
   "file_extension": ".py",
   "mimetype": "text/x-python",
   "name": "python",
   "nbconvert_exporter": "python",
   "pygments_lexer": "ipython3",
   "version": "3.6.2"
  }
 },
 "nbformat": 4,
 "nbformat_minor": 2
}
